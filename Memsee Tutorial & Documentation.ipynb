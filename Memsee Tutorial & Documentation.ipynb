{
 "cells": [
  {
   "cell_type": "code",
   "execution_count": 1,
   "metadata": {
    "collapsed": true
   },
   "outputs": [],
   "source": [
    "# Clean up any old state from previous tutorial runs\n",
    "%rm -f ./tutorial.dump\n",
    "%rm -f ./tutorial.db"
   ]
  },
  {
   "cell_type": "code",
   "execution_count": 2,
   "metadata": {
    "collapsed": true
   },
   "outputs": [],
   "source": [
    "# First, collect some data to work with\n",
    "import meliae.scanner\n",
    "with open('./tutorial.dump', 'w') as tutorial_data:\n",
    "    meliae.scanner.dump_all_objects(tutorial_data)"
   ]
  },
  {
   "cell_type": "code",
   "execution_count": 3,
   "metadata": {
    "collapsed": true
   },
   "outputs": [],
   "source": [
    "# Start covering the memsee app\n",
    "import coverage\n",
    "cov = coverage.coverage(branch=True, include=\"memsee.py\")\n",
    "cov.start()"
   ]
  },
  {
   "cell_type": "code",
   "execution_count": 4,
   "metadata": {
    "collapsed": false
   },
   "outputs": [],
   "source": [
    "%load_ext memsee"
   ]
  },
  {
   "cell_type": "code",
   "execution_count": 5,
   "metadata": {
    "collapsed": false
   },
   "outputs": [
    {
     "name": "stdout",
     "output_type": "stream",
     "text": [
      "Database created, available via variable 'memsee'\n"
     ]
    }
   ],
   "source": [
    "# Create a new memsee database to load data into\n",
    "%create tutorial.db"
   ]
  },
  {
   "cell_type": "code",
   "execution_count": 6,
   "metadata": {
    "collapsed": false
   },
   "outputs": [
    {
     "name": "stdout",
     "output_type": "stream",
     "text": [
      "Reading\n",
      "loaded 10000 objects, 23203 refs\n",
      "loaded 20000 objects, 50408 refs\n",
      "loaded 30000 objects, 73154 refs\n",
      "loaded 40000 objects, 108312 refs\n",
      "loaded 50000 objects, 132602 refs\n",
      "loaded 60000 objects, 161555 refs\n",
      "(sqlite3.OperationalError) cannot commit - no transaction is active [SQL: u'COMMIT']\n",
      "\n",
      "Marking top objects... None\n",
      "60865 (60.9K) objects and 164509 (164.5K) references totalling 10852620 (10.9M) bytes (20.7s)\n"
     ]
    }
   ],
   "source": [
    "# Read in the meliae dump\n",
    "%read ./tutorial.dump"
   ]
  },
  {
   "cell_type": "code",
   "execution_count": 7,
   "metadata": {
    "collapsed": false
   },
   "outputs": [
    {
     "data": {
      "text/html": [
       "<script type=\"text/javascript\">\n",
       "if ($(\"#dg-css\").length == 0){\n",
       "    $(\"head\").append([\n",
       "        \"<link href='/nbextensions/qgridjs/lib/slick.grid.css' rel='stylesheet'>\",\n",
       "        \"<link href='/nbextensions/qgridjs/lib/slick-default-theme.css' rel='stylesheet'>\",\n",
       "        \"<link href='http://cdnjs.cloudflare.com/ajax/libs/jqueryui/1.10.4/css/jquery-ui.min.css' rel='stylesheet'>\",\n",
       "        \"<link id='dg-css' href='/nbextensions/qgridjs/qgrid.css' rel='stylesheet'>\"\n",
       "    ]);\n",
       "}\n",
       "</script>\n",
       "<div class='q-grid-container'>\n",
       "<div id='209d3d5c-413f-455c-a3af-62625a698585' class='q-grid'></div>\n",
       "</div>"
      ]
     },
     "metadata": {},
     "output_type": "display_data"
    },
    {
     "data": {
      "application/javascript": [
       "var path_dictionary = {\n",
       "    jquery_drag: \"/nbextensions/qgridjs/lib/jquery.event.drag-2.2\",\n",
       "    slick_core: \"/nbextensions/qgridjs/lib/slick.core.2.2\",\n",
       "    slick_data_view: \"/nbextensions/qgridjs/lib/slick.dataview.2.2\",\n",
       "    slick_check_box_column: \"/nbextensions/qgridjs/lib/slick.checkboxselectcolumn\",\n",
       "    slick_row_selection_model: \"/nbextensions/qgridjs/lib/slick.rowselectionmodel\",\n",
       "    slick_grid: \"/nbextensions/qgridjs/lib/slick.grid.2.2\",\n",
       "    data_grid: \"/nbextensions/qgridjs/qgrid\",\n",
       "    date_filter: \"/nbextensions/qgridjs/qgrid.datefilter\",\n",
       "    slider_filter: \"/nbextensions/qgridjs/qgrid.sliderfilter\",\n",
       "    text_filter: \"/nbextensions/qgridjs/qgrid.textfilter\",\n",
       "    filter_base:  \"/nbextensions/qgridjs/qgrid.filterbase\",\n",
       "    handlebars: \"https://cdnjs.cloudflare.com/ajax/libs/handlebars.js/2.0.0/handlebars.min\"\n",
       "};\n",
       "\n",
       "var existing_config = require.s.contexts._.config;\n",
       "if (!existing_config.paths['underscore']){\n",
       "    path_dictionary['underscore'] = \"https://cdnjs.cloudflare.com/ajax/libs/underscore.js/1.7.0/underscore-min\";\n",
       "}\n",
       "\n",
       "if (!existing_config.paths['moment']){\n",
       "    path_dictionary['moment'] = \"https://cdnjs.cloudflare.com/ajax/libs/moment.js/2.8.3/moment.min\";\n",
       "}\n",
       "\n",
       "if (!existing_config.paths['jqueryui']){\n",
       "    path_dictionary['jqueryui'] = \"https://ajax.googleapis.com/ajax/libs/jqueryui/1.11.1/jquery-ui.min\";\n",
       "}\n",
       "\n",
       "require.config({\n",
       "    paths: path_dictionary\n",
       "});\n",
       "\n",
       "if (typeof jQuery === 'function') {\n",
       "    define('jquery', function() { return jQuery; });\n",
       "}\n",
       "\n",
       "require([\n",
       "    'jquery',\n",
       "    'jquery_drag',\n",
       "    'slick_core',\n",
       "    'slick_data_view'\n",
       "],\n",
       "function($){\n",
       "    $('#209d3d5c-413f-455c-a3af-62625a698585').closest('.rendered_html').removeClass('rendered_html');\n",
       "    require([\n",
       "      'slick_check_box_column',\n",
       "      'slick_row_selection_model',\n",
       "      'slick_grid'\n",
       "    ], function(){\n",
       "        require([\"data_grid\"], function(dgrid){\n",
       "            var grid = new dgrid.QGrid('#209d3d5c-413f-455c-a3af-62625a698585', [{\"#\":\"#0.000\",\"count(*)\":26279,\"type\":\"str\"},{\"#\":\"#0.001\",\"count(*)\":6058,\"type\":\"function\"},{\"#\":\"#0.002\",\"count(*)\":5749,\"type\":\"code\"},{\"#\":\"#0.003\",\"count(*)\":4623,\"type\":\"dict\"},{\"#\":\"#0.004\",\"count(*)\":4623,\"type\":\"tuple\"},{\"#\":\"#0.005\",\"count(*)\":1675,\"type\":\"int\"},{\"#\":\"#0.006\",\"count(*)\":1270,\"type\":\"wrapper_descriptor\"},{\"#\":\"#0.007\",\"count(*)\":1269,\"type\":\"weakref\"},{\"#\":\"#0.008\",\"count(*)\":1246,\"type\":\"list\"},{\"#\":\"#0.009\",\"count(*)\":1026,\"type\":\"builtin_function_or_method\"},{\"#\":\"#0.010\",\"count(*)\":851,\"type\":\"type\"},{\"#\":\"#0.011\",\"count(*)\":762,\"type\":\"unicode\"},{\"#\":\"#0.012\",\"count(*)\":749,\"type\":\"method_descriptor\"},{\"#\":\"#0.013\",\"count(*)\":667,\"type\":\"getset_descriptor\"},{\"#\":\"#0.014\",\"count(*)\":405,\"type\":\"module\"},{\"#\":\"#0.015\",\"count(*)\":326,\"type\":\"member_descriptor\"},{\"#\":\"#0.016\",\"count(*)\":308,\"type\":\"set\"},{\"#\":\"#0.017\",\"count(*)\":274,\"type\":\"instancemethod\"},{\"#\":\"#0.018\",\"count(*)\":202,\"type\":\"property\"},{\"#\":\"#0.019\",\"count(*)\":138,\"type\":\"WeakSet\"},{\"#\":\"#0.020\",\"count(*)\":135,\"type\":\"cell\"},{\"#\":\"#0.021\",\"count(*)\":117,\"type\":\"_sre.SRE_Pattern\"},{\"#\":\"#0.022\",\"count(*)\":117,\"type\":\"classobj\"},{\"#\":\"#0.023\",\"count(*)\":106,\"type\":\"Unicode\"},{\"#\":\"#0.024\",\"count(*)\":103,\"type\":\"MetaHasTraits\"},{\"#\":\"#0.025\",\"count(*)\":81,\"type\":\"DefaultValueGenerator\"},{\"#\":\"#0.026\",\"count(*)\":78,\"type\":\"instance\"},{\"#\":\"#0.027\",\"count(*)\":76,\"type\":\"Instance\"},{\"#\":\"#0.028\",\"count(*)\":71,\"type\":\"classmethod\"},{\"#\":\"#0.029\",\"count(*)\":67,\"type\":\"_StoreAction\"},{\"#\":\"#0.030\",\"count(*)\":61,\"type\":\"argument\"},{\"#\":\"#0.031\",\"count(*)\":59,\"type\":\"long\"},{\"#\":\"#0.032\",\"count(*)\":50,\"type\":\"frame\"},{\"#\":\"#0.033\",\"count(*)\":50,\"type\":\"operator.itemgetter\"},{\"#\":\"#0.034\",\"count(*)\":50,\"type\":\"staticmethod\"},{\"#\":\"#0.035\",\"count(*)\":46,\"type\":\"ABCMeta\"},{\"#\":\"#0.036\",\"count(*)\":45,\"type\":\"Bool\"},{\"#\":\"#0.037\",\"count(*)\":39,\"type\":\"StgDict\"},{\"#\":\"#0.038\",\"count(*)\":37,\"type\":\"List\"},{\"#\":\"#0.039\",\"count(*)\":36,\"type\":\"Dict\"},{\"#\":\"#0.040\",\"count(*)\":35,\"type\":\"_ArgumentGroup\"},{\"#\":\"#0.041\",\"count(*)\":33,\"type\":\"CBool\"},{\"#\":\"#0.042\",\"count(*)\":32,\"type\":\"float\"},{\"#\":\"#0.043\",\"count(*)\":31,\"type\":\"Integer\"},{\"#\":\"#0.044\",\"count(*)\":29,\"type\":\"frozenset\"},{\"#\":\"#0.045\",\"count(*)\":28,\"type\":\"Any\"},{\"#\":\"#0.046\",\"count(*)\":27,\"type\":\"_ctypes.PyCSimpleType\"},{\"#\":\"#0.047\",\"count(*)\":25,\"type\":\"thread.lock\"},{\"#\":\"#0.048\",\"count(*)\":24,\"type\":\"Type\"},{\"#\":\"#0.049\",\"count(*)\":23,\"type\":\"Struct\"},{\"#\":\"#0.050\",\"count(*)\":21,\"type\":\"_AppendConstAction\"},{\"#\":\"#0.051\",\"count(*)\":21,\"type\":\"_StoreTrueAction\"},{\"#\":\"#0.052\",\"count(*)\":21,\"type\":\"classmethod_descriptor\"},{\"#\":\"#0.053\",\"count(*)\":21,\"type\":\"datetime.date\"},{\"#\":\"#0.054\",\"count(*)\":19,\"type\":\"LazyImporter\"},{\"#\":\"#0.055\",\"count(*)\":17,\"type\":\"MagicArgumentParser\"},{\"#\":\"#0.056\",\"count(*)\":17,\"type\":\"abstractproperty\"},{\"#\":\"#0.057\",\"count(*)\":15,\"type\":\"LazyEvaluate\"},{\"#\":\"#0.058\",\"count(*)\":15,\"type\":\"_Condition\"},{\"#\":\"#0.059\",\"count(*)\":14,\"type\":\"Config\"},{\"#\":\"#0.060\",\"count(*)\":14,\"type\":\"functools.partial\"},{\"#\":\"#0.061\",\"count(*)\":14,\"type\":\"generator\"},{\"#\":\"#0.062\",\"count(*)\":12,\"type\":\"Alias\"},{\"#\":\"#0.063\",\"count(*)\":12,\"type\":\"CoroutineInputTransformer\"},{\"#\":\"#0.064\",\"count(*)\":12,\"type\":\"ObjectName\"},{\"#\":\"#0.065\",\"count(*)\":12,\"type\":\"object\"},{\"#\":\"#0.066\",\"count(*)\":11,\"type\":\"_ctypes.PyCFuncPtrType\"},{\"#\":\"#0.067\",\"count(*)\":9,\"type\":\"PyCapsule\"},{\"#\":\"#0.068\",\"count(*)\":9,\"type\":\"file\"},{\"#\":\"#0.069\",\"count(*)\":8,\"type\":\"StatelessInputTransformer\"},{\"#\":\"#0.070\",\"count(*)\":7,\"type\":\"ColorSchemeTable\"},{\"#\":\"#0.071\",\"count(*)\":7,\"type\":\"DottedObjectName\"},{\"#\":\"#0.072\",\"count(*)\":7,\"type\":\"Frame\"},{\"#\":\"#0.073\",\"count(*)\":7,\"type\":\"Socket\"},{\"#\":\"#0.074\",\"count(*)\":6,\"type\":\"CaselessStrEnum\"},{\"#\":\"#0.075\",\"count(*)\":6,\"type\":\"Enum\"},{\"#\":\"#0.076\",\"count(*)\":6,\"type\":\"Logger\"},{\"#\":\"#0.077\",\"count(*)\":6,\"type\":\"MagicAlias\"},{\"#\":\"#0.078\",\"count(*)\":6,\"type\":\"datetime.timedelta\"},{\"#\":\"#0.079\",\"count(*)\":5,\"type\":\"CFunctionType\"},{\"#\":\"#0.080\",\"count(*)\":5,\"type\":\"Poller\"},{\"#\":\"#0.081\",\"count(*)\":5,\"type\":\"_Event\"},{\"#\":\"#0.082\",\"count(*)\":5,\"type\":\"_ParameterKind\"},{\"#\":\"#0.083\",\"count(*)\":5,\"type\":\"itertools.count\"},{\"#\":\"#0.084\",\"count(*)\":5,\"type\":\"sqlite3Node\"},{\"#\":\"#0.085\",\"count(*)\":4,\"type\":\"CBytes\"},{\"#\":\"#0.086\",\"count(*)\":4,\"type\":\"CodecInfo\"},{\"#\":\"#0.087\",\"count(*)\":4,\"type\":\"Name\"},{\"#\":\"#0.088\",\"count(*)\":4,\"type\":\"Set\"},{\"#\":\"#0.089\",\"count(*)\":4,\"type\":\"UUID\"},{\"#\":\"#0.090\",\"count(*)\":4,\"type\":\"imp.NullImporter\"},{\"#\":\"#0.091\",\"count(*)\":3,\"type\":\"Float\"},{\"#\":\"#0.092\",\"count(*)\":3,\"type\":\"Int\"},{\"#\":\"#0.093\",\"count(*)\":3,\"type\":\"SeparateUnicode\"},{\"#\":\"#0.094\",\"count(*)\":3,\"type\":\"_Printer\"},{\"#\":\"#0.095\",\"count(*)\":3,\"type\":\"_RLock\"},{\"#\":\"#0.096\",\"count(*)\":3,\"type\":\"_Section\"},{\"#\":\"#0.097\",\"count(*)\":3,\"type\":\"_ctypes.PyCPointerType\"},{\"#\":\"#0.098\",\"count(*)\":3,\"type\":\"datetime.datetime\"},{\"#\":\"#0.099\",\"count(*)\":3,\"type\":\"listiterator\"},{\"#\":\"#0.100\",\"count(*)\":2,\"type\":\"Attribute\"},{\"#\":\"#0.101\",\"count(*)\":2,\"type\":\"CDLL\"},{\"#\":\"#0.102\",\"count(*)\":2,\"type\":\"CRegExp\"},{\"#\":\"#0.103\",\"count(*)\":2,\"type\":\"CUnicode\"},{\"#\":\"#0.104\",\"count(*)\":2,\"type\":\"Call\"},{\"#\":\"#0.105\",\"count(*)\":2,\"type\":\"ClassProperty\"},{\"#\":\"#0.106\",\"count(*)\":2,\"type\":\"Context\"},{\"#\":\"#0.107\",\"count(*)\":2,\"type\":\"Formatter\"},{\"#\":\"#0.108\",\"count(*)\":2,\"type\":\"IPythonInputSplitter\"},{\"#\":\"#0.109\",\"count(*)\":2,\"type\":\"LibraryLoader\"},{\"#\":\"#0.110\",\"count(*)\":2,\"type\":\"Module\"},{\"#\":\"#0.111\",\"count(*)\":2,\"type\":\"OutStream\"},{\"#\":\"#0.112\",\"count(*)\":2,\"type\":\"Purpose\"},{\"#\":\"#0.113\",\"count(*)\":2,\"type\":\"Quitter\"},{\"#\":\"#0.114\",\"count(*)\":2,\"type\":\"Random\"},{\"#\":\"#0.115\",\"count(*)\":2,\"type\":\"Str\"},{\"#\":\"#0.116\",\"count(*)\":2,\"type\":\"StreamHandler\"},{\"#\":\"#0.117\",\"count(*)\":2,\"type\":\"ZMQStream\"},{\"#\":\"#0.118\",\"count(*)\":2,\"type\":\"_hashlib.HASH\"},{\"#\":\"#0.119\",\"count(*)\":2,\"type\":\"_io.StringIO\"},{\"#\":\"#0.120\",\"count(*)\":2,\"type\":\"_thread._localdummy\"},{\"#\":\"#0.121\",\"count(*)\":2,\"type\":\"assemble_python_lines\"},{\"#\":\"#0.122\",\"count(*)\":2,\"type\":\"bool\"},{\"#\":\"#0.123\",\"count(*)\":2,\"type\":\"collections.deque\"},{\"#\":\"#0.124\",\"count(*)\":2,\"type\":\"datetime.time\"},{\"#\":\"#0.125\",\"count(*)\":2,\"type\":\"method-wrapper\"},{\"#\":\"#0.126\",\"count(*)\":2,\"type\":\"sqlite3.Connection\"},{\"#\":\"#0.127\",\"count(*)\":1,\"type\":\"\\u2218\"},{\"#\":\"#0.128\",\"count(*)\":1,\"type\":\"Add\"},{\"#\":\"#0.129\",\"count(*)\":1,\"type\":\"AliasManager\"},{\"#\":\"#0.130\",\"count(*)\":1,\"type\":\"And\"},{\"#\":\"#0.131\",\"count(*)\":1,\"type\":\"AssignmentChecker\"},{\"#\":\"#0.132\",\"count(*)\":1,\"type\":\"AugLoad\"},{\"#\":\"#0.133\",\"count(*)\":1,\"type\":\"AugStore\"},{\"#\":\"#0.134\",\"count(*)\":1,\"type\":\"AuthenticationString\"},{\"#\":\"#0.135\",\"count(*)\":1,\"type\":\"AutoFormattedTB\"},{\"#\":\"#0.136\",\"count(*)\":1,\"type\":\"AutoHandler\"},{\"#\":\"#0.137\",\"count(*)\":1,\"type\":\"AutoMagicChecker\"},{\"#\":\"#0.138\",\"count(*)\":1,\"type\":\"AutoMagics\"},{\"#\":\"#0.139\",\"count(*)\":1,\"type\":\"AutocallChecker\"},{\"#\":\"#0.140\",\"count(*)\":1,\"type\":\"BackgroundJobManager\"},{\"#\":\"#0.141\",\"count(*)\":1,\"type\":\"BasicMagics\"},{\"#\":\"#0.142\",\"count(*)\":1,\"type\":\"BitAnd\"},{\"#\":\"#0.143\",\"count(*)\":1,\"type\":\"BitOr\"},{\"#\":\"#0.144\",\"count(*)\":1,\"type\":\"BitXor\"},{\"#\":\"#0.145\",\"count(*)\":1,\"type\":\"BuiltinTrap\"},{\"#\":\"#0.146\",\"count(*)\":1,\"type\":\"Bytes\"},{\"#\":\"#0.147\",\"count(*)\":1,\"type\":\"CodeMagics\"},{\"#\":\"#0.148\",\"count(*)\":1,\"type\":\"CommManager\"},{\"#\":\"#0.149\",\"count(*)\":1,\"type\":\"CompletionSplitter\"},{\"#\":\"#0.150\",\"count(*)\":1,\"type\":\"ConfigMagics\"},{\"#\":\"#0.151\",\"count(*)\":1,\"type\":\"Del\"},{\"#\":\"#0.152\",\"count(*)\":1,\"type\":\"DeprecatedMagics\"},{\"#\":\"#0.153\",\"count(*)\":1,\"type\":\"DisplayFormatter\"},{\"#\":\"#0.154\",\"count(*)\":1,\"type\":\"DisplayMagics\"},{\"#\":\"#0.155\",\"count(*)\":1,\"type\":\"DisplayTrap\"},{\"#\":\"#0.156\",\"count(*)\":1,\"type\":\"Div\"},{\"#\":\"#0.157\",\"count(*)\":1,\"type\":\"DollarFormatter\"},{\"#\":\"#0.158\",\"count(*)\":1,\"type\":\"DummyExecutor\"},{\"#\":\"#0.159\",\"count(*)\":1,\"type\":\"EmacsChecker\"},{\"#\":\"#0.160\",\"count(*)\":1,\"type\":\"EmacsHandler\"},{\"#\":\"#0.161\",\"count(*)\":1,\"type\":\"Eq\"},{\"#\":\"#0.162\",\"count(*)\":1,\"type\":\"EventManager\"},{\"#\":\"#0.163\",\"count(*)\":1,\"type\":\"ExecutionMagics\"},{\"#\":\"#0.164\",\"count(*)\":1,\"type\":\"ExecutionResult\"},{\"#\":\"#0.165\",\"count(*)\":1,\"type\":\"Expr\"},{\"#\":\"#0.166\",\"count(*)\":1,\"type\":\"ExtensionMagics\"},{\"#\":\"#0.167\",\"count(*)\":1,\"type\":\"ExtensionManager\"},{\"#\":\"#0.168\",\"count(*)\":1,\"type\":\"FloorDiv\"},{\"#\":\"#0.169\",\"count(*)\":1,\"type\":\"FormattedTB\"},{\"#\":\"#0.170\",\"count(*)\":1,\"type\":\"ForwardDeclaredInstance\"},{\"#\":\"#0.171\",\"count(*)\":1,\"type\":\"GlutInputHook\"},{\"#\":\"#0.172\",\"count(*)\":1,\"type\":\"Gt\"},{\"#\":\"#0.173\",\"count(*)\":1,\"type\":\"GtE\"},{\"#\":\"#0.174\",\"count(*)\":1,\"type\":\"Gtk3InputHook\"},{\"#\":\"#0.175\",\"count(*)\":1,\"type\":\"GtkInputHook\"},{\"#\":\"#0.176\",\"count(*)\":1,\"type\":\"Heartbeat\"},{\"#\":\"#0.177\",\"count(*)\":1,\"type\":\"HistoryMagics\"},{\"#\":\"#0.178\",\"count(*)\":1,\"type\":\"HistoryManager\"},{\"#\":\"#0.179\",\"count(*)\":1,\"type\":\"HistorySavingThread\"},{\"#\":\"#0.180\",\"count(*)\":1,\"type\":\"IPCompleter\"},{\"#\":\"#0.181\",\"count(*)\":1,\"type\":\"IPKernelApp\"},{\"#\":\"#0.182\",\"count(*)\":1,\"type\":\"IPyAutocallChecker\"},{\"#\":\"#0.183\",\"count(*)\":1,\"type\":\"IPythonKernel\"},{\"#\":\"#0.184\",\"count(*)\":1,\"type\":\"Import\"},{\"#\":\"#0.185\",\"count(*)\":1,\"type\":\"In\"},{\"#\":\"#0.186\",\"count(*)\":1,\"type\":\"InputHookManager\"},{\"#\":\"#0.187\",\"count(*)\":1,\"type\":\"Invert\"},{\"#\":\"#0.188\",\"count(*)\":1,\"type\":\"Is\"},{\"#\":\"#0.189\",\"count(*)\":1,\"type\":\"IsNot\"},{\"#\":\"#0.190\",\"count(*)\":1,\"type\":\"JSONDecoder\"},{\"#\":\"#0.191\",\"count(*)\":1,\"type\":\"JSONEncoder\"},{\"#\":\"#0.192\",\"count(*)\":1,\"type\":\"KernelMagics\"},{\"#\":\"#0.193\",\"count(*)\":1,\"type\":\"LShift\"},{\"#\":\"#0.194\",\"count(*)\":1,\"type\":\"LevelFormatter\"},{\"#\":\"#0.195\",\"count(*)\":1,\"type\":\"Load\"},{\"#\":\"#0.196\",\"count(*)\":1,\"type\":\"LocaleTime\"},{\"#\":\"#0.197\",\"count(*)\":1,\"type\":\"LoggingMagics\"},{\"#\":\"#0.198\",\"count(*)\":1,\"type\":\"Lt\"},{\"#\":\"#0.199\",\"count(*)\":1,\"type\":\"LtE\"},{\"#\":\"#0.200\",\"count(*)\":1,\"type\":\"MacroChecker\"},{\"#\":\"#0.201\",\"count(*)\":1,\"type\":\"MacroHandler\"},{\"#\":\"#0.202\",\"count(*)\":1,\"type\":\"MagicHandler\"},{\"#\":\"#0.203\",\"count(*)\":1,\"type\":\"MagicHelpFormatter\"},{\"#\":\"#0.204\",\"count(*)\":1,\"type\":\"MagicsManager\"},{\"#\":\"#0.205\",\"count(*)\":1,\"type\":\"Manager\"},{\"#\":\"#0.206\",\"count(*)\":1,\"type\":\"MessageTracker\"},{\"#\":\"#0.207\",\"count(*)\":1,\"type\":\"Mod\"},{\"#\":\"#0.208\",\"count(*)\":1,\"type\":\"Mult\"},{\"#\":\"#0.209\",\"count(*)\":1,\"type\":\"NamespaceMagics\"},{\"#\":\"#0.210\",\"count(*)\":1,\"type\":\"NoDefaultSpecified\"},{\"#\":\"#0.211\",\"count(*)\":1,\"type\":\"NoOpContext\"},{\"#\":\"#0.212\",\"count(*)\":1,\"type\":\"NoneType\"},{\"#\":\"#0.213\",\"count(*)\":1,\"type\":\"Not\"},{\"#\":\"#0.214\",\"count(*)\":1,\"type\":\"NotEq\"},{\"#\":\"#0.215\",\"count(*)\":1,\"type\":\"NotImplementedType\"},{\"#\":\"#0.216\",\"count(*)\":1,\"type\":\"NotIn\"},{\"#\":\"#0.217\",\"count(*)\":1,\"type\":\"NullContext\"},{\"#\":\"#0.218\",\"count(*)\":1,\"type\":\"NullInputHook\"},{\"#\":\"#0.219\",\"count(*)\":1,\"type\":\"OSMagics\"},{\"#\":\"#0.220\",\"count(*)\":1,\"type\":\"Or\"},{\"#\":\"#0.221\",\"count(*)\":1,\"type\":\"Param\"},{\"#\":\"#0.222\",\"count(*)\":1,\"type\":\"ParentPollerUnix\"},{\"#\":\"#0.223\",\"count(*)\":1,\"type\":\"PayloadManager\"},{\"#\":\"#0.224\",\"count(*)\":1,\"type\":\"PickleShareDB\"},{\"#\":\"#0.225\",\"count(*)\":1,\"type\":\"Pow\"},{\"#\":\"#0.226\",\"count(*)\":1,\"type\":\"PrefilterHandler\"},{\"#\":\"#0.227\",\"count(*)\":1,\"type\":\"PrefilterManager\"},{\"#\":\"#0.228\",\"count(*)\":1,\"type\":\"ProcessHandler\"},{\"#\":\"#0.229\",\"count(*)\":1,\"type\":\"ProfileDir\"},{\"#\":\"#0.230\",\"count(*)\":1,\"type\":\"PromptManager\"},{\"#\":\"#0.231\",\"count(*)\":1,\"type\":\"PyDLL\"},{\"#\":\"#0.232\",\"count(*)\":1,\"type\":\"PygletInputHook\"},{\"#\":\"#0.233\",\"count(*)\":1,\"type\":\"PylabMagics\"},{\"#\":\"#0.234\",\"count(*)\":1,\"type\":\"PythonOpsChecker\"},{\"#\":\"#0.235\",\"count(*)\":1,\"type\":\"Qt4InputHook\"},{\"#\":\"#0.236\",\"count(*)\":1,\"type\":\"Qt5InputHook\"},{\"#\":\"#0.237\",\"count(*)\":1,\"type\":\"RShift\"},{\"#\":\"#0.238\",\"count(*)\":1,\"type\":\"RootLogger\"},{\"#\":\"#0.239\",\"count(*)\":1,\"type\":\"ScriptMagics\"},{\"#\":\"#0.240\",\"count(*)\":1,\"type\":\"Session\"},{\"#\":\"#0.241\",\"count(*)\":1,\"type\":\"Store\"},{\"#\":\"#0.242\",\"count(*)\":1,\"type\":\"StoreMagics\"},{\"#\":\"#0.243\",\"count(*)\":1,\"type\":\"StrDispatch\"},{\"#\":\"#0.244\",\"count(*)\":1,\"type\":\"Sub\"},{\"#\":\"#0.245\",\"count(*)\":1,\"type\":\"SyntaxTB\"},{\"#\":\"#0.246\",\"count(*)\":1,\"type\":\"TextCalendar\"},{\"#\":\"#0.247\",\"count(*)\":1,\"type\":\"TimeRE\"},{\"#\":\"#0.248\",\"count(*)\":1,\"type\":\"TkInputHook\"},{\"#\":\"#0.249\",\"count(*)\":1,\"type\":\"UAdd\"},{\"#\":\"#0.250\",\"count(*)\":1,\"type\":\"USub\"},{\"#\":\"#0.251\",\"count(*)\":1,\"type\":\"Undefined\"},{\"#\":\"#0.252\",\"count(*)\":1,\"type\":\"UserMagics\"},{\"#\":\"#0.253\",\"count(*)\":1,\"type\":\"UserNSFormatter\"},{\"#\":\"#0.254\",\"count(*)\":1,\"type\":\"V4toV5\"},{\"#\":\"#0.255\",\"count(*)\":1,\"type\":\"V5toV4\"},{\"#\":\"#0.256\",\"count(*)\":1,\"type\":\"Waker\"},{\"#\":\"#0.257\",\"count(*)\":1,\"type\":\"With\"},{\"#\":\"#0.258\",\"count(*)\":1,\"type\":\"WxInputHook\"},{\"#\":\"#0.259\",\"count(*)\":1,\"type\":\"ZMQDataPublisher\"},{\"#\":\"#0.260\",\"count(*)\":1,\"type\":\"ZMQDisplayHook\"},{\"#\":\"#0.261\",\"count(*)\":1,\"type\":\"ZMQDisplayPublisher\"},{\"#\":\"#0.262\",\"count(*)\":1,\"type\":\"ZMQExitAutocall\"},{\"#\":\"#0.263\",\"count(*)\":1,\"type\":\"ZMQIOLoop\"},{\"#\":\"#0.264\",\"count(*)\":1,\"type\":\"ZMQInteractiveShell\"},{\"#\":\"#0.265\",\"count(*)\":1,\"type\":\"ZMQPoller\"},{\"#\":\"#0.266\",\"count(*)\":1,\"type\":\"ZMQShellDisplayHook\"},{\"#\":\"#0.267\",\"count(*)\":1,\"type\":\"_HelpAction\"},{\"#\":\"#0.268\",\"count(*)\":1,\"type\":\"_Helper\"},{\"#\":\"#0.269\",\"count(*)\":1,\"type\":\"_MainProcess\"},{\"#\":\"#0.270\",\"count(*)\":1,\"type\":\"_MainThread\"},{\"#\":\"#0.271\",\"count(*)\":1,\"type\":\"_State\"},{\"#\":\"#0.272\",\"count(*)\":1,\"type\":\"_StoreFalseAction\"},{\"#\":\"#0.273\",\"count(*)\":1,\"type\":\"_TemplateMetaclass\"},{\"#\":\"#0.274\",\"count(*)\":1,\"type\":\"__BuiltinUndefined\"},{\"#\":\"#0.275\",\"count(*)\":1,\"type\":\"__HideBuiltin\"},{\"#\":\"#0.276\",\"count(*)\":1,\"type\":\"_ctypes.PyCArrayType\"},{\"#\":\"#0.277\",\"count(*)\":1,\"type\":\"_ctypes.PyCStructType\"},{\"#\":\"#0.278\",\"count(*)\":1,\"type\":\"_ctypes.UnionType\"},{\"#\":\"#0.279\",\"count(*)\":1,\"type\":\"_json.Scanner\"},{\"#\":\"#0.280\",\"count(*)\":1,\"type\":\"_swapped_meta\"},{\"#\":\"#0.281\",\"count(*)\":1,\"type\":\"alias\"},{\"#\":\"#0.282\",\"count(*)\":1,\"type\":\"complex\"},{\"#\":\"#0.283\",\"count(*)\":1,\"type\":\"ellipsis\"},{\"#\":\"#0.284\",\"count(*)\":1,\"type\":\"enumerate\"},{\"#\":\"#0.285\",\"count(*)\":1,\"type\":\"exceptions.MemoryError\"},{\"#\":\"#0.286\",\"count(*)\":1,\"type\":\"exceptions.RuntimeError\"},{\"#\":\"#0.287\",\"count(*)\":1,\"type\":\"multimethod\"},{\"#\":\"#0.288\",\"count(*)\":1,\"type\":\"path\"},{\"#\":\"#0.289\",\"count(*)\":1,\"type\":\"sqlite3.Cursor\"},{\"#\":\"#0.290\",\"count(*)\":1,\"type\":\"sys.flags\"},{\"#\":\"#0.291\",\"count(*)\":1,\"type\":\"sys.float_info\"},{\"#\":\"#0.292\",\"count(*)\":1,\"type\":\"sys.long_info\"},{\"#\":\"#0.293\",\"count(*)\":1,\"type\":\"sys.version_info\"},{\"#\":\"#0.294\",\"count(*)\":1,\"type\":\"thread._local\"}], [{\"field\": \"#\"}, {\"field\": \"count(*)\", \"type\": \"Integer\"}, {\"field\": \"type\"}]);\n",
       "            grid.initialize_slick_grid();\n",
       "        });\n",
       "    });\n",
       "});\n"
      ]
     },
     "metadata": {},
     "output_type": "display_data"
    }
   ],
   "source": [
    "# Find the most-represented object types\n",
    "%select count(*), type from obj group by type order by 1 desc"
   ]
  },
  {
   "cell_type": "code",
   "execution_count": 8,
   "metadata": {
    "collapsed": false
   },
   "outputs": [
    {
     "name": "stdout",
     "output_type": "stream",
     "text": [
      "DEBUG MODE ON\n"
     ]
    }
   ],
   "source": [
    "# Enable debugging mode, to see what queries Memsee is executing\n",
    "%debug"
   ]
  },
  {
   "cell_type": "code",
   "execution_count": 9,
   "metadata": {
    "collapsed": false
   },
   "outputs": [
    {
     "ename": "SyntaxError",
     "evalue": "invalid syntax (<ipython-input-9-7570c7a049de>, line 2)",
     "output_type": "error",
     "traceback": [
      "\u001b[1;36m  File \u001b[1;32m\"<ipython-input-9-7570c7a049de>\"\u001b[1;36m, line \u001b[1;32m2\u001b[0m\n\u001b[1;33m    %%select *\u001b[0m\n\u001b[1;37m    ^\u001b[0m\n\u001b[1;31mSyntaxError\u001b[0m\u001b[1;31m:\u001b[0m invalid syntax\n"
     ]
    }
   ],
   "source": [
    "# Find objects that reference strings\n",
    "%%select *\n",
    "  from obj as parent,\n",
    "       ref,\n",
    "       obj as child\n",
    " where parent.address = obj.parent\n",
    "   and child.address = ref.child\n",
    "   and child.type = 'str'"
   ]
  },
  {
   "cell_type": "code",
   "execution_count": 8,
   "metadata": {
    "collapsed": false
   },
   "outputs": [],
   "source": [
    "# Capture the coverage data\n",
    "cov.stop()\n",
    "cov.save()"
   ]
  },
  {
   "cell_type": "code",
   "execution_count": 9,
   "metadata": {
    "collapsed": false
   },
   "outputs": [
    {
     "data": {
      "text/html": [
       "\n",
       "        <iframe\n",
       "            width=\"750\"\n",
       "            height=\"1000\"\n",
       "            src=\"htmlcov/memsee.html\"\n",
       "            frameborder=\"0\"\n",
       "            allowfullscreen\n",
       "        ></iframe>\n",
       "        "
      ],
      "text/plain": [
       "<IPython.lib.display.IFrame at 0x7f9b0565db10>"
      ]
     },
     "execution_count": 9,
     "metadata": {},
     "output_type": "execute_result"
    }
   ],
   "source": [
    "# Generate a coverage report\n",
    "cov.html_report()\n",
    "\n",
    "from IPython.display import IFrame\n",
    "IFrame('htmlcov/memsee.html', 750, 1000)"
   ]
  },
  {
   "cell_type": "code",
   "execution_count": null,
   "metadata": {
    "collapsed": true
   },
   "outputs": [],
   "source": []
  }
 ],
 "metadata": {
  "kernelspec": {
   "display_name": "Python 2",
   "language": "python",
   "name": "python2"
  },
  "language_info": {
   "codemirror_mode": {
    "name": "ipython",
    "version": 2
   },
   "file_extension": ".py",
   "mimetype": "text/x-python",
   "name": "python",
   "nbconvert_exporter": "python",
   "pygments_lexer": "ipython2",
   "version": "2.7.9"
  }
 },
 "nbformat": 4,
 "nbformat_minor": 0
}
