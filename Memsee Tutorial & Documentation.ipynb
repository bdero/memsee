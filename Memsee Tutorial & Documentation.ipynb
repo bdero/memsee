{
 "cells": [
  {
   "cell_type": "code",
   "execution_count": 2,
   "metadata": {
    "collapsed": true
   },
   "outputs": [],
   "source": [
    "# Clean up any old state from previous tutorial runs\n",
    "%rm -f ./tutorial.dump\n",
    "%rm -f ./tutorial.db"
   ]
  },
  {
   "cell_type": "code",
   "execution_count": 3,
   "metadata": {
    "collapsed": true
   },
   "outputs": [],
   "source": [
    "# First, collect some data to work with\n",
    "import meliae.scanner\n",
    "with open('./tutorial.dump', 'w') as tutorial_data:\n",
    "    meliae.scanner.dump_all_objects(tutorial_data)"
   ]
  },
  {
   "cell_type": "code",
   "execution_count": 4,
   "metadata": {
    "collapsed": true
   },
   "outputs": [],
   "source": [
    "# Start covering the memsee app\n",
    "import coverage\n",
    "cov = coverage.coverage(branch=True, include=\"memsee.py\")\n",
    "cov.start()"
   ]
  },
  {
   "cell_type": "code",
   "execution_count": 5,
   "metadata": {
    "collapsed": false
   },
   "outputs": [],
   "source": [
    "%load_ext memsee"
   ]
  },
  {
   "cell_type": "code",
   "execution_count": 6,
   "metadata": {
    "collapsed": false
   },
   "outputs": [
    {
     "name": "stdout",
     "output_type": "stream",
     "text": [
      "Database created, available via variable 'memsee'\n"
     ]
    }
   ],
   "source": [
    "# Create a new memsee database to load data into\n",
    "%create tutorial.db"
   ]
  },
  {
   "cell_type": "code",
   "execution_count": 7,
   "metadata": {
    "collapsed": false
   },
   "outputs": [
    {
     "name": "stdout",
     "output_type": "stream",
     "text": [
      "Reading\n",
      "loaded 10000 objects, 20360 refs\n",
      "loaded 20000 objects, 41982 refs\n",
      "loaded 30000 objects, 67664 refs\n",
      "loaded 40000 objects, 94288 refs\n",
      "loaded 50000 objects, 127532 refs\n",
      "loaded 60000 objects, 155260 refs\n",
      "(sqlite3.OperationalError) cannot commit - no transaction is active [SQL: u'COMMIT']\n",
      "\n",
      "Marking top objects... None\n",
      "64403 (64.4K) objects and 170062 (170.1K) references totalling 11316034 (11.3M) bytes (16.9s)\n"
     ]
    }
   ],
   "source": [
    "# Read in the meliae dump\n",
    "%read ./tutorial.dump"
   ]
  },
  {
   "cell_type": "code",
   "execution_count": 8,
   "metadata": {
    "collapsed": false
   },
   "outputs": [],
   "source": [
    "# Capture the coverage data\n",
    "cov.stop()\n",
    "cov.save()"
   ]
  },
  {
   "cell_type": "code",
   "execution_count": 9,
   "metadata": {
    "collapsed": false
   },
   "outputs": [
    {
     "data": {
      "text/html": [
       "\n",
       "        <iframe\n",
       "            width=\"750\"\n",
       "            height=\"1000\"\n",
       "            src=\"htmlcov/memsee.html\"\n",
       "            frameborder=\"0\"\n",
       "            allowfullscreen\n",
       "        ></iframe>\n",
       "        "
      ],
      "text/plain": [
       "<IPython.lib.display.IFrame at 0x7f6a900f1410>"
      ]
     },
     "execution_count": 9,
     "metadata": {},
     "output_type": "execute_result"
    }
   ],
   "source": [
    "# Generate a coverage report\n",
    "cov.html_report()\n",
    "\n",
    "from IPython.display import IFrame\n",
    "IFrame('htmlcov/memsee.html', 750, 1000)"
   ]
  },
  {
   "cell_type": "code",
   "execution_count": null,
   "metadata": {
    "collapsed": true
   },
   "outputs": [],
   "source": []
  }
 ],
 "metadata": {
  "kernelspec": {
   "display_name": "Python 2",
   "language": "python",
   "name": "python2"
  },
  "language_info": {
   "codemirror_mode": {
    "name": "ipython",
    "version": 2
   },
   "file_extension": ".py",
   "mimetype": "text/x-python",
   "name": "python",
   "nbconvert_exporter": "python",
   "pygments_lexer": "ipython2",
   "version": "2.7.9"
  }
 },
 "nbformat": 4,
 "nbformat_minor": 0
}
